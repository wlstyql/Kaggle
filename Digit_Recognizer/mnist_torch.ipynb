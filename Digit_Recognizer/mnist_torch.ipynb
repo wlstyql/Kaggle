{
 "cells": [
  {
   "cell_type": "code",
   "execution_count": 1,
   "metadata": {},
   "outputs": [
    {
     "name": "stdout",
     "output_type": "stream",
     "text": [
      "['sample_submission.csv', 'test.csv', 'train.csv']\n"
     ]
    }
   ],
   "source": [
    "import numpy as np\n",
    "import pandas as pd\n",
    "import matplotlib.pyplot as plt\n",
    "from sklearn.model_selection import train_test_split\n",
    "import os\n",
    "print(os.listdir('./input'))"
   ]
  },
  {
   "cell_type": "code",
   "execution_count": 2,
   "metadata": {},
   "outputs": [],
   "source": [
    "# data read\n",
    "data_all = pd.read_csv('./input/train.csv', dtype=np.float32)\n",
    "# data image, normalize\n",
    "data_image = data_all.drop('label', axis=1).values\n",
    "# data label\n",
    "data_label = data_all['label'].values"
   ]
  },
  {
   "cell_type": "code",
   "execution_count": 3,
   "metadata": {},
   "outputs": [
    {
     "name": "stdout",
     "output_type": "stream",
     "text": [
      "Total: 42000  Train: 33600  Test: 8400 \n"
     ]
    }
   ],
   "source": [
    "# train(0.8) test(0.2) split\n",
    "train_image, test_image, train_label, test_label = \\\n",
    "    train_test_split(data_image, data_label, test_size=0.2)\n",
    "# len(data_image) = len(train_image) + len(test_image)\n",
    "print('Total: {} '.format(len(data_image)),\n",
    "      'Train: {} '.format(len(train_image)),\n",
    "      'Test: {} '.format(len(test_image)))"
   ]
  },
  {
   "cell_type": "code",
   "execution_count": 4,
   "metadata": {},
   "outputs": [
    {
     "data": {
      "image/png": "[encoded data removed]",
      "text/plain": [
       "<Figure size 432x288 with 1 Axes>"
      ]
     },
     "metadata": {
      "needs_background": "light"
     },
     "output_type": "display_data"
    }
   ],
   "source": [
    "# image show\n",
    "plt.imshow(train_image[0].reshape(28,28))\n",
    "plt.title(int(train_label[0]))\n",
    "plt.show()"
   ]
  },
  {
   "cell_type": "code",
   "execution_count": 5,
   "metadata": {},
   "outputs": [],
   "source": [
    "import torch\n",
    "# train data to tensor with normalize\n",
    "train_image = torch.from_numpy(train_image).type(torch.FloatTensor)/255\n",
    "train_label = torch.from_numpy(train_label).type(torch.LongTensor)\n",
    "# test data to tensor with normalize\n",
    "test_image = torch.from_numpy(test_image).type(torch.FloatTensor)/255\n",
    "test_label = torch.from_numpy(test_label).type(torch.LongTensor)"
   ]
  },
  {
   "cell_type": "code",
   "execution_count": 6,
   "metadata": {},
   "outputs": [
    {
     "name": "stdout",
     "output_type": "stream",
     "text": [
      "7\n"
     ]
    }
   ],
   "source": [
    "# hyperparameters\n",
    "batch_size = 100\n",
    "num_iters = 2500\n",
    "num_epochs = int(num_iters / (len(train_image) / batch_size))\n",
    "print(num_epochs)"
   ]
  },
  {
   "cell_type": "code",
   "execution_count": 7,
   "metadata": {},
   "outputs": [],
   "source": [
    "from torch.utils.data import DataLoader, TensorDataset\n",
    "# image & label set\n",
    "train = TensorDataset(train_image, train_label)\n",
    "test = TensorDataset(test_image, test_label)\n",
    "# data loader\n",
    "train_loader = DataLoader(train, batch_size=batch_size, shuffle=False)\n",
    "test_loader = DataLoader(test, batch_size=batch_size, shuffle=False)"
   ]
  },
  {
   "cell_type": "code",
   "execution_count": 8,
   "metadata": {},
   "outputs": [],
   "source": [
    "import torch.nn as nn\n",
    "import torchvision.transforms as transforms\n",
    "from torch.autograd import Variable\n",
    "import torch.nn.functional as F"
   ]
  },
  {
   "cell_type": "code",
   "execution_count": 9,
   "metadata": {},
   "outputs": [],
   "source": [
    "# CNN model\n",
    "class CNN(nn.Module):\n",
    "    def __init__(self):\n",
    "        # Module initialize\n",
    "        super(CNN, self).__init__()\n",
    "        # (100,1,28,28) -> (100,16,24,24)\n",
    "        self.cn1 = nn.Conv2d(in_channels=1, out_channels=16,\n",
    "                              kernel_size=5, stride=1, padding=0)\n",
    "        self.relu1 = nn.ReLU()\n",
    "        # (100,16,24,24) -> (100,16,12,12)\n",
    "        self.maxpool1 = nn.MaxPool2d(kernel_size=2)\n",
    "        # (100,16,12,12) -> (100,32,8,8)\n",
    "        self.cn2 = nn.Conv2d(in_channels=16, out_channels=32,\n",
    "                              kernel_size=5, stride=1, padding=0)\n",
    "        self.relu2 = nn.ReLU()\n",
    "        # (100,32,8,8) -> (100,32,4,4)\n",
    "        self.maxpool2 = nn.MaxPool2d(kernel_size=2)\n",
    "        # (100,32*4*4) -> (100,10)\n",
    "        self.fc1 = nn.Linear(32 * 4 * 4, 10)\n",
    "    \n",
    "    def forward(self, x):\n",
    "        x = self.maxpool1(self.relu1(self.cn1(x)))\n",
    "        x = self.maxpool2(self.relu2(self.cn2(x)))\n",
    "        x = x.view(x.size(0), -1)\n",
    "        x = self.fc1(x)\n",
    "        return x"
   ]
  },
  {
   "cell_type": "code",
   "execution_count": 10,
   "metadata": {},
   "outputs": [],
   "source": [
    "# model, loss, optimizer\n",
    "model = CNN()\n",
    "criterion = nn.CrossEntropyLoss()\n",
    "optimizer = torch.optim.SGD(model.parameters(), lr=0.06, momentum=0.1)"
   ]
  },
  {
   "cell_type": "code",
   "execution_count": 11,
   "metadata": {},
   "outputs": [
    {
     "name": "stdout",
     "output_type": "stream",
     "text": [
      "Epoch: 500 Loss: 0.144 Accuracy: 96.333 %\n",
      "Epoch: 1000 Loss: 0.046 Accuracy: 97.357 %\n",
      "Epoch: 1500 Loss: 0.103 Accuracy: 97.452 %\n",
      "Epoch: 2000 Loss: 0.066 Accuracy: 97.738 %\n"
     ]
    }
   ],
   "source": [
    "loss_list = []\n",
    "accuracy_list = []\n",
    "iter_list = []\n",
    "iter_cnt = 0\n",
    "\n",
    "# train \n",
    "for epoch in range(num_epochs):\n",
    "    for i, (images, labels) in enumerate(train_loader):\n",
    "        images = Variable(images.view(batch_size,1,28,28))\n",
    "        labels = Variable(labels)\n",
    "        optimizer.zero_grad()\n",
    "        outputs = model(images)\n",
    "        loss = criterion(outputs, labels)\n",
    "        loss.backward()\n",
    "        optimizer.step()\n",
    "        \n",
    "        iter_cnt += 1\n",
    "        \n",
    "        # test for every 50 iters\n",
    "        if iter_cnt % 50 == 0:\n",
    "            with torch.no_grad():\n",
    "                accuracy = 0\n",
    "                total = 0\n",
    "                for images, labels in test_loader:\n",
    "                    images = Variable(images.view(batch_size,1,28,28))\n",
    "                    outputs = model(images)\n",
    "                    predict = torch.max(outputs.data, 1)[1]\n",
    "                    total += len(labels)\n",
    "                    accuracy += float((labels == predict).sum())\n",
    "                accuracy = 100 * accuracy / total\n",
    "                \n",
    "                loss_list.append(loss.data)\n",
    "                iter_list.append(iter_cnt)\n",
    "                accuracy_list.append(accuracy)\n",
    "                \n",
    "                # print epoch, accuracy every 500 iters\n",
    "                if iter_cnt % 500 == 0:\n",
    "                    print('Epoch: {}'.format(iter_cnt),\n",
    "                          'Loss: {:.3f}'.format(loss.data),\n",
    "                          'Accuracy: {:.3f} %'.format(accuracy))"
   ]
  },
  {
   "cell_type": "code",
   "execution_count": 12,
   "metadata": {},
   "outputs": [
    {
     "data": {
      "image/png": "[encoded data removed]",
      "text/plain": [
       "<Figure size 432x288 with 1 Axes>"
      ]
     },
     "metadata": {
      "needs_background": "light"
     },
     "output_type": "display_data"
    }
   ],
   "source": [
    "# visualization accuracy\n",
    "plt.plot(iter_list, accuracy_list)\n",
    "plt.xlabel('Iteration')\n",
    "plt.title('Accuracy')\n",
    "plt.show()"
   ]
  },
  {
   "cell_type": "code",
   "execution_count": 13,
   "metadata": {},
   "outputs": [
    {
     "data": {
      "image/png": "[encoded data removed]",
      "text/plain": [
       "<Figure size 432x288 with 1 Axes>"
      ]
     },
     "metadata": {
      "needs_background": "light"
     },
     "output_type": "display_data"
    }
   ],
   "source": [
    "# visualization loss\n",
    "plt.plot(iter_list, loss_list)\n",
    "plt.xlabel('Iteration')\n",
    "plt.title('Loss')\n",
    "plt.show()"
   ]
  },
  {
   "cell_type": "code",
   "execution_count": 14,
   "metadata": {},
   "outputs": [
    {
     "name": "stdout",
     "output_type": "stream",
     "text": [
      "save model state dict keys: \n",
      " odict_keys(['cn1.weight', 'cn1.bias', 'cn2.weight', 'cn2.bias', 'fc1.weight', 'fc1.bias'])\n"
     ]
    }
   ],
   "source": [
    "# save model\n",
    "print('save model state dict keys: \\n', model.state_dict().keys())\n",
    "torch.save(model.state_dict(), 'checkpoint.pth')"
   ]
  },
  {
   "cell_type": "code",
   "execution_count": 15,
   "metadata": {},
   "outputs": [
    {
     "name": "stdout",
     "output_type": "stream",
     "text": [
      "load model state dict keys: \n",
      " odict_keys(['cn1.weight', 'cn1.bias', 'cn2.weight', 'cn2.bias', 'fc1.weight', 'fc1.bias'])\n"
     ]
    }
   ],
   "source": [
    "# load model\n",
    "state_dict = torch.load('checkpoint.pth')\n",
    "print('load model state dict keys: \\n', model.state_dict().keys())"
   ]
  },
  {
   "cell_type": "code",
   "execution_count": 16,
   "metadata": {},
   "outputs": [
    {
     "name": "stdout",
     "output_type": "stream",
     "text": [
      "torch.Size([28000, 784])\n"
     ]
    }
   ],
   "source": [
    "# load test data\n",
    "new_test = pd.read_csv('./input/test.csv').values\n",
    "new_images = torch.from_numpy(new_test).type(torch.FloatTensor)/255\n",
    "print(new_images.shape)\n",
    "new_test_loader = DataLoader(new_images, batch_size=batch_size, shuffle=False)"
   ]
  },
  {
   "cell_type": "code",
   "execution_count": 17,
   "metadata": {},
   "outputs": [
    {
     "name": "stdout",
     "output_type": "stream",
     "text": [
      "[2, 0, 9, 9, 3, 7, 0, 3, 0, 3]\n",
      "28000\n"
     ]
    }
   ],
   "source": [
    "results = []\n",
    "with torch.no_grad():\n",
    "    model.eval()\n",
    "    for images in new_test_loader:\n",
    "        images = Variable(images.view(batch_size,1,28,28))\n",
    "        outputs = model(images)\n",
    "        predict = torch.max(outputs.data, 1)[1]\n",
    "        results += predict.numpy().tolist()\n",
    "        \n",
    "print(results[:10])\n",
    "print(len(results))"
   ]
  },
  {
   "cell_type": "code",
   "execution_count": 18,
   "metadata": {},
   "outputs": [
    {
     "name": "stdout",
     "output_type": "stream",
     "text": [
      "[2 0 9 9 3 7 0 3 0 3]\n",
      "(28000,)\n"
     ]
    }
   ],
   "source": [
    "results = np.array(results).flatten()\n",
    "print(results[:10])\n",
    "print(results.shape)"
   ]
  },
  {
   "cell_type": "code",
   "execution_count": 19,
   "metadata": {},
   "outputs": [
    {
     "name": "stdout",
     "output_type": "stream",
     "text": [
      "   ImageId  Label\n",
      "0        1      2\n",
      "1        2      0\n",
      "2        3      9\n",
      "3        4      9\n",
      "4        5      3\n",
      "5        6      7\n",
      "6        7      0\n",
      "7        8      3\n",
      "8        9      0\n",
      "9       10      3\n"
     ]
    }
   ],
   "source": [
    "# submit\n",
    "submissions = pd.DataFrame({'ImageId': list(range(1, len(results)+1)),\n",
    "                          'Label': results})\n",
    "submissions.to_csv('submissions.csv', index=False, header=True)\n",
    "# check\n",
    "print(submissions[:10])"
   ]
  },
  {
   "cell_type": "code",
   "execution_count": null,
   "metadata": {},
   "outputs": [],
   "source": []
  }
 ],
 "metadata": {
  "kernelspec": {
   "display_name": "Python 3",
   "language": "python",
   "name": "python3"
  },
  "language_info": {
   "codemirror_mode": {
    "name": "ipython",
    "version": 3
   },
   "file_extension": ".py",
   "mimetype": "text/x-python",
   "name": "python",
   "nbconvert_exporter": "python",
   "pygments_lexer": "ipython3",
   "version": "3.5.2"
  }
 },
 "nbformat": 4,
 "nbformat_minor": 2
}
